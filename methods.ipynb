{
  "nbformat": 4,
  "nbformat_minor": 0,
  "metadata": {
    "colab": {
      "provenance": [],
      "authorship_tag": "ABX9TyM/3QGcU6tYpvSrJh38MCNs",
      "include_colab_link": true
    },
    "kernelspec": {
      "name": "python3",
      "display_name": "Python 3"
    },
    "language_info": {
      "name": "python"
    }
  },
  "cells": [
    {
      "cell_type": "markdown",
      "metadata": {
        "id": "view-in-github",
        "colab_type": "text"
      },
      "source": [
        "<a href=\"https://colab.research.google.com/github/alisheraxmedov/API_example/blob/master/methods.ipynb\" target=\"_parent\"><img src=\"https://colab.research.google.com/assets/colab-badge.svg\" alt=\"Open In Colab\"/></a>"
      ]
    },
    {
      "cell_type": "markdown",
      "source": [
        "**NORMALIZATION**\n",
        "\n",
        "1) Min-Max Normalization\n",
        "\n",
        "2) Z-Score Normalization\n",
        "\n",
        "3) Max Abs Normalization\n",
        "\n",
        "4) Log Transformation Normalization\n",
        "\n",
        "5) Decimal Scaling Normalization"
      ],
      "metadata": {
        "id": "n15-u-mDtEb6"
      }
    },
    {
      "cell_type": "code",
      "execution_count": null,
      "metadata": {
        "colab": {
          "base_uri": "https://localhost:8080/"
        },
        "id": "YDgS-IxQqENL",
        "outputId": "b7cb88ab-9e17-4f45-eb7c-3ff9f447a856"
      },
      "outputs": [
        {
          "output_type": "stream",
          "name": "stdout",
          "text": [
            "   LotArea    minmax    zscore  max_abs_scaler  robus_scaler  normalizer\n",
            "0     8450  0.033420 -0.207142        0.039258     -0.254076         1.0\n",
            "1     9600  0.038795 -0.091886        0.044600      0.030015         1.0\n",
            "2    11250  0.046507  0.073480        0.052266      0.437624         1.0\n",
            "3     9550  0.038561 -0.096897        0.044368      0.017663         1.0\n",
            "4    14260  0.060576  0.375148        0.066250      1.181201         1.0\n"
          ]
        }
      ],
      "source": [
        "import pandas as pd\n",
        "import numpy as np\n",
        "from sklearn.preprocessing import MinMaxScaler, StandardScaler, MaxAbsScaler,RobustScaler, Normalizer\n",
        "\n",
        "\n",
        "df = pd.read_csv(\"/content/sample_data/train.csv\")\n",
        "\n",
        "minmax = MinMaxScaler()\n",
        "zscore = StandardScaler()\n",
        "max_abs_scaler = MaxAbsScaler()\n",
        "robus_scaler = RobustScaler()\n",
        "normalizer = Normalizer(norm=\"l2\", copy=True)\n",
        "\n",
        "df['minmax'] = minmax.fit_transform(df[['LotArea']])\n",
        "df['zscore'] = zscore.fit_transform(df[['LotArea']])\n",
        "df['max_abs_scaler'] = max_abs_scaler.fit_transform(df[['LotArea']])\n",
        "df['robus_scaler'] = robus_scaler.fit_transform(df[['LotArea']])\n",
        "df['normalizer'] = normalizer.fit_transform(df['LotArea'].to_numpy().reshape(-1,1))\n",
        "\n",
        "\n",
        "print(df[['LotArea', 'minmax', 'zscore', 'max_abs_scaler', 'robus_scaler', 'normalizer']].head())"
      ]
    },
    {
      "cell_type": "code",
      "source": [],
      "metadata": {
        "id": "pBLOCxAJyajA"
      },
      "execution_count": null,
      "outputs": []
    }
  ]
}